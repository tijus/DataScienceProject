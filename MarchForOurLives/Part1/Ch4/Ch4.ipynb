{
 "cells": [
  {
   "cell_type": "code",
   "execution_count": 1,
   "metadata": {},
   "outputs": [
    {
     "data": {
      "text/plain": [
       "'ABC'"
      ]
     },
     "execution_count": 1,
     "metadata": {},
     "output_type": "execute_result"
    }
   ],
   "source": [
    "\"ABC\\t\".strip()"
   ]
  },
  {
   "cell_type": "code",
   "execution_count": 2,
   "metadata": {},
   "outputs": [
    {
     "data": {
      "text/plain": [
       "'ABC\\t'"
      ]
     },
     "execution_count": 2,
     "metadata": {},
     "output_type": "execute_result"
    }
   ],
   "source": [
    "\" ABC\\t\".lstrip()"
   ]
  },
  {
   "cell_type": "code",
   "execution_count": 3,
   "metadata": {},
   "outputs": [
    {
     "data": {
      "text/plain": [
       "' ABC'"
      ]
     },
     "execution_count": 3,
     "metadata": {},
     "output_type": "execute_result"
    }
   ],
   "source": [
    "\" ABC\\t\".rstrip()"
   ]
  },
  {
   "cell_type": "code",
   "execution_count": 4,
   "metadata": {},
   "outputs": [
    {
     "data": {
      "text/plain": [
       "'AB'"
      ]
     },
     "execution_count": 4,
     "metadata": {},
     "output_type": "execute_result"
    }
   ],
   "source": [
    "\"ABC\".strip(\"C\")"
   ]
  },
  {
   "cell_type": "code",
   "execution_count": 7,
   "metadata": {},
   "outputs": [
    {
     "name": "stdout",
     "output_type": "stream",
     "text": [
      "abcÿ\n"
     ]
    }
   ],
   "source": [
    "s = \"abc\\xFF\"\n",
    "print(s)"
   ]
  },
  {
   "cell_type": "code",
   "execution_count": 11,
   "metadata": {},
   "outputs": [
    {
     "name": "stdout",
     "output_type": "stream",
     "text": [
      "1985-08-13 00:00:00\n",
      "2013-08-13 00:00:00\n",
      "2013-08-13 04:15:00\n"
     ]
    }
   ],
   "source": [
    "import dateutil.parser as p\n",
    "print(p.parse(\"August 13, 1985\"))\n",
    "print(p.parse(\"2013-8-13\"))\n",
    "print(p.parse(\"2013-8-13 4:15am\"))"
   ]
  },
  {
   "cell_type": "code",
   "execution_count": 16,
   "metadata": {},
   "outputs": [
    {
     "name": "stdout",
     "output_type": "stream",
     "text": [
      "                Name  Age   Birthdate First Name Last Name\n",
      "0  Ms. Janice Joplin   65  1943-01-19     Janice    Joplin\n",
      "1         Bob Dylan    74  1941-03-24        Bob     Dylan\n",
      "2     Billy Ray Joel   66  1941-02-09      Billy      Joel\n"
     ]
    }
   ],
   "source": [
    "#pg 54 4.5 formatting script \n",
    "def get_first_last_name(s):\n",
    "    INVALID_NAME_PARTS = [\"mr\", \"ms\", \"mrs\",\n",
    "    \"dr\", \"jr\", \"sir\"]\n",
    "    parts = s.lower().replace(\".\",\"\").strip().split()\n",
    "    parts = [p for p in parts if p not in INVALID_NAME_PARTS]\n",
    "    if len(parts)==0:\n",
    "        raise ValueError(\"Name %s is formatted wrong\" % s)\n",
    "    first, last = parts[0], parts[-1]\n",
    "    first = first[0].upper() + first[1:]\n",
    "    last = last[0].upper() + last[1:]\n",
    "    return first, last\n",
    "\n",
    "def format_age(s):\n",
    "    chars = list(s) # list of characters\n",
    "    digit_chars = [c for c in chars if c.isdigit()]\n",
    "    return int(\"\".join(digit_chars))\n",
    "\n",
    "def format_date(s):\n",
    "    MONTH_MAP = {\"jan\": \"01\", \"feb\": \"02\", \"may\": \"03\"}\n",
    "    s = s.strip().lower().replace(\",\", \"\")\n",
    "    m, d, y = s.split()\n",
    "    if len(y) == 2: y = \"19\" + y\n",
    "    if len(d) == 1: d = \"0\" + d\n",
    "    return y + \"-\" + MONTH_MAP[m[:3]] + \"-\" + d\n",
    "\n",
    "\n",
    "import pandas as pd\n",
    "df = pd.read_csv(\"file.csv\", sep=\"|\")\n",
    "df[\"First Name\"] = df[\"Name\"].apply(\n",
    "lambda s: get_first_last_name(s)[0])\n",
    "df[\"Last Name\"] = df[\"Name\"].apply(\n",
    "lambda s: get_first_last_name(s)[1])\n",
    "df[\"Age\"] = df[\"Age\"].apply(format_age)\n",
    "df[\"Birthdate\"] = df[\"Birthdate\"].apply(\n",
    "format_date).astype(pd.datetime)\n",
    "print (df)"
   ]
  },
  {
   "cell_type": "code",
   "execution_count": 47,
   "metadata": {},
   "outputs": [
    {
     "name": "stdout",
     "output_type": "stream",
     "text": [
      "street =  [('156 Englewood Ave.', 'Ave')] \n",
      "city =  ['Buffalo, NY,14214']\n"
     ]
    }
   ],
   "source": [
    "#regex \n",
    "import re \n",
    "\n",
    "# This matches \"1600 Pennsylvania Ave  It does NOT match \"5 Stony Brook St\" cuz there is a space in \"Stony Brook\"\n",
    "# this assumes there is no space in the town name\n",
    "text = \"156 Englewood Ave.\\nBuffalo, NY,14214\\n\"\n",
    "street_pattern = r\"(\\s*[0-9]+\\s[A-Z][a-z]*? (Street|St|Rd|Road|Ave|Avenue|Blvd|Way|Wy)\\.)\"\n",
    "city_pattern = r\"\\s*?([A-Z][a-z]*,\\s[A-Z]{2},[0-9]{5})\"\n",
    "\n",
    "address_pattern = street_pattern  + city_pattern\n",
    "\n",
    "\n",
    "# Compile the string into a regular expression object\n",
    "#address_re = re.compile(address_pattern)\n",
    "\n",
    "# list of all strings that match\n",
    "#(re.findall(address_pattern, text))\n",
    "city = re.findall(city_pattern, text)\n",
    "street = re.findall(street_pattern, text)\n",
    "\n",
    "print('street = ', street , '\\ncity = ' , city)"
   ]
  },
  {
   "cell_type": "code",
   "execution_count": null,
   "metadata": {},
   "outputs": [],
   "source": []
  }
 ],
 "metadata": {
  "kernelspec": {
   "display_name": "Python 3",
   "language": "python",
   "name": "python3"
  },
  "language_info": {
   "codemirror_mode": {
    "name": "ipython",
    "version": 3
   },
   "file_extension": ".py",
   "mimetype": "text/x-python",
   "name": "python",
   "nbconvert_exporter": "python",
   "pygments_lexer": "ipython3",
   "version": "3.5.2"
  }
 },
 "nbformat": 4,
 "nbformat_minor": 2
}
