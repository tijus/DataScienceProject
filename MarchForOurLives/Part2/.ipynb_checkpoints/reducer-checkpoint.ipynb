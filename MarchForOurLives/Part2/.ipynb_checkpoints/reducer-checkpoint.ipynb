{
 "cells": [
  {
   "cell_type": "code",
   "execution_count": null,
   "metadata": {},
   "outputs": [],
   "source": [
    "import sys\n",
    "\n",
    "d = {}\n",
    "for line in sys.stdin:\n",
    "    \n",
    "    # deleting starting and trailing space\n",
    "    line = line.strip()\n",
    "    \n",
    "    words,count = line.split(\"\\t\",1)\n",
    "    count = int(count)\n",
    "    if d.get(words)==None:\n",
    "        d[words] = count\n",
    "    else:\n",
    "        d[words]=d[words]+count\n",
    "\n",
    "for key in d:\n",
    "    print(key+\"\\t\"+d[key])\n",
    "    \n",
    "    "
   ]
  }
 ],
 "metadata": {
  "kernelspec": {
   "display_name": "Python 3",
   "language": "python",
   "name": "python3"
  },
  "language_info": {
   "codemirror_mode": {
    "name": "ipython",
    "version": 3
   },
   "file_extension": ".py",
   "mimetype": "text/x-python",
   "name": "python",
   "nbconvert_exporter": "python",
   "pygments_lexer": "ipython3",
   "version": "3.5.2"
  }
 },
 "nbformat": 4,
 "nbformat_minor": 2
}
