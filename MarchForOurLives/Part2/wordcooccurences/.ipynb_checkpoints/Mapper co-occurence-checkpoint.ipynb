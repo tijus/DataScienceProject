{
 "cells": [
  {
   "cell_type": "code",
   "execution_count": 66,
   "metadata": {},
   "outputs": [],
   "source": [
    "import sys\n",
    "import re\n",
    "from nltk.corpus import stopwords\n",
    "from nltk.tokenize import word_tokenize\n",
    "import pandas as pd \n",
    "\n",
    "stop_words = set(stopwords.words('english'))\n",
    "special = ['amp','marchforourlives','none','i’m','th']\n",
    "\n",
    "with open('seostopwords.txt') as f:\n",
    "    stopLines = f.read().splitlines()\n",
    "    \n",
    "dump = [stop_words.add(i) for i in special]\n",
    "dump = [stop_words.add(i) for i in stopLines]\n",
    "\n",
    "dfReducer = pd.read_csv('tweets.tsv', sep='\\t')\n",
    "#dfReducer = pd.read_csv('nyt.tsv', sep='\\t') # use this for consdiering top words from articles\n",
    "\n",
    "pairs = set()"
   ]
  },
  {
   "cell_type": "code",
   "execution_count": 67,
   "metadata": {},
   "outputs": [],
   "source": [
    "def mapper_co_occurence(tweet):\n",
    "    \n",
    "    lines = tweet.split('\\n')\n",
    "    \n",
    "    for line in lines:\n",
    "        #print(line)\n",
    "        # here I am going to do pre processing using regex \n",
    "        words = reg(line)\n",
    "        #print(words)\n",
    "\n",
    "       # filtered_sentence = [w for w in words if not w in stop_words]\n",
    "        filtered_sentence = []\n",
    "\n",
    "        for w in words:\n",
    "            if w not in stop_words:\n",
    "                filtered_sentence.append(w)\n",
    "         \n",
    "        for pr in pairs:\n",
    "            if(pr[0] in filtered_sentence and pr[1] in filtered_sentence):\n",
    "                print(pr[0] + \"\\t\" + pr[1] + \"\\t\" +str(1))"
   ]
  },
  {
   "cell_type": "code",
   "execution_count": 68,
   "metadata": {
    "scrolled": true
   },
   "outputs": [],
   "source": [
    "# make pairs \n",
    "def make_pairs(df):\n",
    "\n",
    "    for i in range(len(df)):\n",
    "        for j in range(i+1,len(df)):\n",
    "            #print(df.iloc[i][0],df.iloc[j][0])\n",
    "            pairs.add((df.iloc[i][0],df.iloc[j][0]))\n",
    "\n",
    "top_count = 10 # no of words to be considered with max freq\n",
    "make_pairs(dfReducer[0:top_count])\n",
    "#print(pairs)"
   ]
  },
  {
   "cell_type": "code",
   "execution_count": 69,
   "metadata": {
    "scrolled": true
   },
   "outputs": [],
   "source": [
    "def reg (line):\n",
    "    line = (re.sub('(RT )*@.+? ', '',line)) # dont want <RT and/or @user> tags\n",
    "    line = (re.sub('http.+? ', '',line)) # dont want web adresses\n",
    "    line = re.sub(',', ' ', line)\n",
    "    line = line.lower()\n",
    "    words = re.findall('([a-z]+?.{0,1}?[a-z]*?)\\W*\\s+',line) # regex to extract words (space delmit, remove special chars at end of words)\n",
    "    return words\n",
    "#reg(Tooter)"
   ]
  },
  {
   "cell_type": "code",
   "execution_count": 70,
   "metadata": {},
   "outputs": [
    {
     "name": "stdout",
     "output_type": "stream",
     "text": [
      "march\tpeople\t1\n",
      "gun\tpeople\t1\n",
      "students\tkids\t1\n",
      "gun\tstudents\t1\n",
      "people\tstudents\t1\n",
      "march\tstudents\t1\n",
      "gun\tkids\t1\n",
      "gun\tmarch\t1\n",
      "march\tkids\t1\n",
      "people\tkids\t1\n"
     ]
    }
   ],
   "source": [
    "# testing the mapper \n",
    "\n",
    "Tooter = \"RT @jessphoenix2018: https:ajs.com/smkds/com If you're in SoCal  you won't want to miss this. The amazing students running of @StudentsNextUP (follow them!) organized a #Tâ¦\"\n",
    "art = '''Celebrity Cash, Kudos Boost 'March for Our Lives' Gun Control Campaign Advertisement,None,LOS ANGELES â  Oprah Winfrey calls them \"warriors of the light,\" actor Bill Murray says the young Florida gun control campaigners remind him of the students who rallied to end the Vietnam War, and George Clooney has donated $500,000 to their cause.,The teen organizers of Saturday's nationwide \"March for Our Lives,\" aimed at toughening gun laws to help stop school shootings in the United States, have won kudos and cash from dozens of celebrities, helping to raise their national profile.,The April 2 cover of Time magazine will feature five  students from Marjory Stoneman Douglas High School in Florida  who have organized rallies, walk-outs and challenged U.S. lawmakers since the February 14 mass shooting at the school that left 17 students and staff dead.,Miley Cyrus, Ariana Grande, Jennifer Hudson, Demi Lovato and Common are due to be among performers at Saturday's main march in Washington D.C., while \"Trainwreck\" actress Amy Schumer and pop star Charlie Puth are expected to headline a march in Los Angeles, organizers said.,Advertisement,\"So inspired by the incredible students behind #MarchForOurLives. Canât wait to join them in DC to perform and show my support,\" Cyrus tweeted earlier this week.,Advertisement,\"Proud of these kids,\" Justin Bieber wrote on Twitter.,Winfrey, Clooney, director Steven Spielberg and Hollywood producer Jeffrey Katzenberg have donated an aggregate of $2 million to the \"March for Our Lives\" movement. Clooney and his wife Amal have said they would march with the students on Saturday.,\"This is their moment,\" Winfrey told Reuters Television in  praising the students. \"They are the new young warriors of the light.\",None,Please verify you're not a robot by clicking the box.,Invalid email address. Please re-enter.,You must select a newsletter to subscribe to.,View all New York Times newsletters.,\"Groundhog Day\" actor Murray compared them to the young protesters of the 1960s who helped bring an end to the Vietnam War.,\"Maybe this noise that those students in Florida are making, here today, will do something of the same nature,\" Murray wrote in an opinion piece for NBCNews.com.,Youth-oriented television channel MTV has teamed up with the NAACP to send 17 buses of young people to Washington, D.C. on Saturday, and has enlisted support through social media and video messages from the likes of Lady Gaga, Jennifer Lopez, Jay-Z, Halsey and talk show host Jimmy Fallon.,\"Hamilton\" creator Lin-Manuel Miranda and \"Dear Evan Hansen\" star Ben Platt are also due to perform at the Washington demonstration after releasing a fund-raising mashup of two songs from their respective Broadway shows called \"Found/Tonight\".,Talk show host Ellen DeGeneres tweeted, \"These kids from Marjory Stoneman Douglas see a need for change in our world, and they're doing something about it.\",(Reporting by Jill Serjeant; Editing by Toni Reinhold),None,Go to Home Page Â»,'''\n",
    "\n",
    "#mapper_co_occurence(Tooter)\n",
    "mapper_co_occurence(art)\n"
   ]
  },
  {
   "cell_type": "code",
   "execution_count": null,
   "metadata": {},
   "outputs": [],
   "source": []
  }
 ],
 "metadata": {
  "kernelspec": {
   "display_name": "Python 3",
   "language": "python",
   "name": "python3"
  },
  "language_info": {
   "codemirror_mode": {
    "name": "ipython",
    "version": 3
   },
   "file_extension": ".py",
   "mimetype": "text/x-python",
   "name": "python",
   "nbconvert_exporter": "python",
   "pygments_lexer": "ipython3",
   "version": "3.5.2"
  }
 },
 "nbformat": 4,
 "nbformat_minor": 2
}
